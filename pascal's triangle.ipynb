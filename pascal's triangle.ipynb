{
 "cells": [
  {
   "cell_type": "code",
   "execution_count": null,
   "metadata": {},
   "outputs": [],
   "source": [
    "s=input()\n",
    "a=s.split(\":\")\n",
    "c=list(a[2])\n",
    "if(c[2]=='P'):\n",
    "    a[0]=int(a[0])+12\n",
    "d=[c[0],c[1]]\n",
    "a[2]=''.join(d)\n",
    "\n",
    "\n",
    "for i in a:\n",
    "\n",
    "    a=''.join(str(i))\n",
    "\n"
   ]
  },
  {
   "cell_type": "code",
   "execution_count": 15,
   "metadata": {},
   "outputs": [
    {
     "name": "stdout",
     "output_type": "stream",
     "text": [
      "4\n",
      "       1 \n",
      "      1 2 \n",
      "     1 2 11 \n",
      "    1 2 11 121 \n"
     ]
    }
   ],
   "source": [
    "a=int(input())\n",
    "c=int(a*2-1)\n",
    "b=1\n",
    "for i in range(0,a):\n",
    "    for j in range(0,c):\n",
    "        print(\" \",end =\"\")\n",
    "    for i in range(0,i+1):\n",
    "        if(i>1):\n",
    "            b=11**(i-1)\n",
    "        else:\n",
    "            \n",
    "        print(b,\"\",end =\"\")\n",
    "        b=b+1\n",
    "    c=c-1\n",
    "    b=1\n",
    "    print(\"\")\n",
    "    "
   ]
  },
  {
   "cell_type": "code",
   "execution_count": 20,
   "metadata": {},
   "outputs": [
    {
     "name": "stdout",
     "output_type": "stream",
     "text": [
      "5\n",
      "         1 \n",
      "        1 \n",
      "       11 \n",
      "      121 \n",
      "     1331 \n"
     ]
    }
   ],
   "source": [
    "a=int(input())\n",
    "c=int(a*2-1)\n",
    "b=1\n",
    "for i in range(0,a):\n",
    "    for j in range(0,c):\n",
    "        print(\" \",end =\"\")\n",
    "    \n",
    "    if(i>1):\n",
    "        b=11**(i-1)\n",
    "    print(b,\"\",end =\"\")\n",
    "    b=b+1  \n",
    "    c=c-1\n",
    "    b=1\n",
    "    print(\"\")\n",
    "    "
   ]
  },
  {
   "cell_type": "markdown",
   "metadata": {},
   "source": [
    "p=input()\n",
    "print(p)\n"
   ]
  },
  {
   "cell_type": "code",
   "execution_count": 23,
   "metadata": {},
   "outputs": [
    {
     "name": "stdout",
     "output_type": "stream",
     "text": [
      "566\n",
      "['5', '6', '6']\n"
     ]
    }
   ],
   "source": [
    "b=int(input())\n",
    "b=str(b)\n",
    "b=list(b)\n"
   ]
  },
  {
   "cell_type": "code",
   "execution_count": 48,
   "metadata": {},
   "outputs": [
    {
     "name": "stdout",
     "output_type": "stream",
     "text": [
      "5\n",
      "         1 \n",
      "        1 1 1 \n",
      "       1 1 1 1 2 1 \n",
      "      1 1 1 1 2 1 1 3 3 1 \n",
      "     1 1 1 1 2 1 1 3 3 1 1 4 6 4 1 \n"
     ]
    }
   ],
   "source": [
    "import time\n",
    "t=[]\n",
    "\n",
    "a=int(input())\n",
    "c=int(a*2-1)\n",
    "d=0\n",
    "b=[]\n",
    "for i in range(0,a):\n",
    "    for j in range(0,c):\n",
    "        print(\" \",end =\"\")\n",
    "    for j in range(1,i+2):\n",
    "    \n",
    "            b=list(str(11**(j-1)))\n",
    "            for k in range(0,len(b)):\n",
    "                print(b[k],\"\",end='')\n",
    "                d+=d\n",
    "            b.clear()\n",
    "            time.sleep(0.1)\n",
    "    c=c-1\n",
    "    print(\"\")\n",
    "\n",
    "    "
   ]
  },
  {
   "cell_type": "code",
   "execution_count": 38,
   "metadata": {},
   "outputs": [
    {
     "name": "stdout",
     "output_type": "stream",
     "text": [
      "6\n",
      "           1 \n",
      "          1 1 "
     ]
    },
    {
     "ename": "TypeError",
     "evalue": "'NoneType' object is not subscriptable",
     "output_type": "error",
     "traceback": [
      "\u001b[1;31m---------------------------------------------------------------------------\u001b[0m",
      "\u001b[1;31mTypeError\u001b[0m                                 Traceback (most recent call last)",
      "\u001b[1;32m<ipython-input-38-a64f39480056>\u001b[0m in \u001b[0;36m<module>\u001b[1;34m\u001b[0m\n\u001b[0;32m     14\u001b[0m                 \u001b[0mb\u001b[0m\u001b[1;33m=\u001b[0m\u001b[0mlist\u001b[0m\u001b[1;33m(\u001b[0m\u001b[0ml\u001b[0m\u001b[1;33m)\u001b[0m\u001b[1;33m\u001b[0m\u001b[1;33m\u001b[0m\u001b[0m\n\u001b[0;32m     15\u001b[0m             \u001b[1;32mfor\u001b[0m \u001b[0mk\u001b[0m \u001b[1;32min\u001b[0m \u001b[0mrange\u001b[0m\u001b[1;33m(\u001b[0m\u001b[1;36m0\u001b[0m\u001b[1;33m,\u001b[0m\u001b[0mlen\u001b[0m\u001b[1;33m(\u001b[0m\u001b[0mb\u001b[0m\u001b[1;33m)\u001b[0m\u001b[1;33m)\u001b[0m\u001b[1;33m:\u001b[0m\u001b[1;33m\u001b[0m\u001b[1;33m\u001b[0m\u001b[0m\n\u001b[1;32m---> 16\u001b[1;33m                 \u001b[0mprint\u001b[0m\u001b[1;33m(\u001b[0m\u001b[0mb\u001b[0m\u001b[1;33m[\u001b[0m\u001b[0mk\u001b[0m\u001b[1;33m]\u001b[0m\u001b[1;33m,\u001b[0m\u001b[1;34m\"\"\u001b[0m\u001b[1;33m,\u001b[0m\u001b[0mend\u001b[0m\u001b[1;33m=\u001b[0m\u001b[1;34m\"\"\u001b[0m\u001b[1;33m)\u001b[0m\u001b[1;33m\u001b[0m\u001b[1;33m\u001b[0m\u001b[0m\n\u001b[0m\u001b[0;32m     17\u001b[0m                 \u001b[0md\u001b[0m\u001b[1;33m+=\u001b[0m\u001b[0md\u001b[0m\u001b[1;33m\u001b[0m\u001b[1;33m\u001b[0m\u001b[0m\n\u001b[0;32m     18\u001b[0m                 \u001b[0mb\u001b[0m\u001b[1;33m=\u001b[0m\u001b[0mb\u001b[0m\u001b[1;33m.\u001b[0m\u001b[0mclear\u001b[0m\u001b[1;33m(\u001b[0m\u001b[1;33m)\u001b[0m\u001b[1;33m\u001b[0m\u001b[1;33m\u001b[0m\u001b[0m\n",
      "\u001b[1;31mTypeError\u001b[0m: 'NoneType' object is not subscriptable"
     ]
    }
   ],
   "source": [
    "a=int(input())\n",
    "c=int(a*2-1)\n",
    "d=0\n",
    "b==[]\n",
    "for i in range(0,a):\n",
    "    for j in range(0,c):\n",
    "        print(\" \",end =\"\")\n",
    "    for j in range(1,i+2):\n",
    "            h=11**(j-1)\n",
    "            l=str(h)\n",
    "            if(j<1):\n",
    "                b[i]=list(l)\n",
    "            else:\n",
    "                b=list(l)\n",
    "            for k in range(0,len(b)):\n",
    "                print(b[k],\"\",end=\"\")\n",
    "                d+=d\n",
    "                b=b.clear() \n",
    "    c=c-1\n",
    "    #b=1\n",
    "    print(\"\")\n",
    "\n",
    "    "
   ]
  },
  {
   "cell_type": "code",
   "execution_count": null,
   "metadata": {},
   "outputs": [],
   "source": [
    "import math\n",
    "\n",
    "a=int(input)\n"
   ]
  }
 ],
 "metadata": {
  "kernelspec": {
   "display_name": "Python 3",
   "language": "python",
   "name": "python3"
  },
  "language_info": {
   "codemirror_mode": {
    "name": "ipython",
    "version": 3
   },
   "file_extension": ".py",
   "mimetype": "text/x-python",
   "name": "python",
   "nbconvert_exporter": "python",
   "pygments_lexer": "ipython3",
   "version": "3.7.1"
  }
 },
 "nbformat": 4,
 "nbformat_minor": 2
}
