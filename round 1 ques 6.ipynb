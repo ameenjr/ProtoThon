{
 "cells": [
  {
   "cell_type": "code",
   "execution_count": null,
   "metadata": {},
   "outputs": [],
   "source": [
    "a=str(input(\"Enter the sentence\"))\n",
    "print(\"\\n1.All Caps\\n2.Small Caps\\n3.Title Case\\n4.Start Case\")\n",
    "b=str(input(\"Enter your choice\"))\n",
    "if(b=='1'):\n",
    "    a=a.upper()\n",
    "    print(a)\n",
    "elif(b=='2'):\n",
    "    print(a)\n",
    "elif(b=='3'):\n",
    "    a=a.title()\n",
    "    print(a)\n",
    "elif(b=='4'):\n",
    "    a=a.capitalize()\n",
    "    print(a)\n",
    "\n",
    "        "
   ]
  },
  {
   "cell_type": "code",
   "execution_count": null,
   "metadata": {},
   "outputs": [],
   "source": []
  }
 ],
 "metadata": {
  "kernelspec": {
   "display_name": "Python 3",
   "language": "python",
   "name": "python3"
  },
  "language_info": {
   "codemirror_mode": {
    "name": "ipython",
    "version": 3
   },
   "file_extension": ".py",
   "mimetype": "text/x-python",
   "name": "python",
   "nbconvert_exporter": "python",
   "pygments_lexer": "ipython3",
   "version": "3.7.1"
  }
 },
 "nbformat": 4,
 "nbformat_minor": 2
}
