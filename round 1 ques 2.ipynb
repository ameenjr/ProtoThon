{
 "cells": [
  {
   "cell_type": "code",
   "execution_count": 18,
   "metadata": {},
   "outputs": [
    {
     "name": "stdout",
     "output_type": "stream",
     "text": [
      "Enter values seperated by comma2,3,4\n",
      "<class 'list'>\n",
      "['2', '3', '4']\n",
      "3.1091263510296048\n"
     ]
    }
   ],
   "source": [
    "a=str(input(\"Enter values seperated by comma\"))\n",
    "b=[]\n",
    "b=a.split(',')\n",
    "sum = 0\n",
    "print(type(b))\n",
    "print(b)\n",
    "for i in range (0,len(b)):\n",
    "    d=int(b[i])\n",
    "    d=d*d\n",
    "    sum=sum+d\n",
    "ans=sum/len(b)\n",
    "\n",
    "ans=ans**(0.5)\n",
    "\n",
    "print(ans)\n",
    "\n",
    "\n"
   ]
  },
  {
   "cell_type": "markdown",
   "metadata": {},
   "source": []
  }
 ],
 "metadata": {
  "kernelspec": {
   "display_name": "Python 3",
   "language": "python",
   "name": "python3"
  },
  "language_info": {
   "codemirror_mode": {
    "name": "ipython",
    "version": 3
   },
   "file_extension": ".py",
   "mimetype": "text/x-python",
   "name": "python",
   "nbconvert_exporter": "python",
   "pygments_lexer": "ipython3",
   "version": "3.7.1"
  }
 },
 "nbformat": 4,
 "nbformat_minor": 2
}
